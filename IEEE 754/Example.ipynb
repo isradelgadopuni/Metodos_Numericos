{
 "cells": [
  {
   "cell_type": "code",
   "execution_count": 2,
   "metadata": {},
   "outputs": [
    {
     "name": "stdout",
     "output_type": "stream",
     "text": [
      "Ingrese un entero15\n",
      "b'15'\n",
      "longitud 2\n",
      "i 0\n",
      "z[i] 49\n",
      "i 1\n",
      "z[i] 53\n",
      "<class 'int'>\n"
     ]
    }
   ],
   "source": [
    "#from numpy import ndarray\n",
    "\n",
    "def entero(cadena):\n",
    "    #res=[None]*2\n",
    "    #res = ndarray((2,),byte)\n",
    "    z = bytes(cadena, 'utf-8')\n",
    "    print(z)\n",
    "    #z=list(cadena)\n",
    "    #enteros=ndarray(z.length(),byte)\n",
    "    resint = 0\n",
    "    l = len(z)\n",
    "    print(\"longitud \" + str(l))\n",
    "    potencia = l-1;\n",
    "    for i in range(0,l):\n",
    "        print(\"i \" + str(i))\n",
    "        print(\"z[i] \" + str(z[i]))\n",
    "        # 45 es el ascii del signo -\n",
    "        if (z[i] == 45 and i==0): \n",
    "            potencia-=1\n",
    "            # Agregar signo, 10000000 00000000, 2^15\n",
    "            #   Bit 15 contiene signo 0 positivo 1 negativo\n",
    "            resint+= 0x8000 \n",
    "        elif (not(z[i]>=48 and z[i]<=57)):\n",
    "            # 48 es el ascii de 0 y 57 de 9\n",
    "            raise Exception('No es un número entero')\n",
    "        else:\n",
    "            # ** se usa para potenciación\n",
    "            resint += (z[i]-48)*(10**potencia)\n",
    "            potencia-=1\n",
    "    return resint\n",
    "    \n",
    "\n",
    "#newFileBytes = [ 30 ]\n",
    "\n",
    "#newFileBytes = [ 125, 125, 125, 125 ]\n",
    "\n",
    "newFile = open(\"filename.txt\", \"wb\")\n",
    "\n",
    "a=entero(input(\"Ingrese un entero\"))\n",
    "\n",
    "print(type(a))\n",
    "\n",
    "newFile.write(a.to_bytes(2, byteorder='big')) # ,signed=True\n",
    "    \n",
    "#newFileBytes[0] = a\n",
    "\n",
    "#for byte in newFileBytes:\n",
    "#    newFile.write(byte.to_bytes(1, byteorder='big',signed=True))\n",
    "    \n",
    "newFile.close()\n",
    "\n",
    "# read from file\n",
    "    "
   ]
  },
  {
   "cell_type": "code",
   "execution_count": 6,
   "metadata": {},
   "outputs": [
    {
     "ename": "AttributeError",
     "evalue": "'float' object has no attribute 'to_bytes'",
     "output_type": "error",
     "traceback": [
      "\u001b[1;31m---------------------------------------------------------------------------\u001b[0m",
      "\u001b[1;31mAttributeError\u001b[0m                            Traceback (most recent call last)",
      "\u001b[1;32m<ipython-input-6-82047a70bdae>\u001b[0m in \u001b[0;36m<module>\u001b[1;34m\u001b[0m\n\u001b[0;32m      3\u001b[0m \u001b[0mnewFile\u001b[0m \u001b[1;33m=\u001b[0m \u001b[0mopen\u001b[0m\u001b[1;33m(\u001b[0m\u001b[1;34m\"filename.txt\"\u001b[0m\u001b[1;33m,\u001b[0m \u001b[1;34m\"wb\"\u001b[0m\u001b[1;33m)\u001b[0m\u001b[1;33m\u001b[0m\u001b[1;33m\u001b[0m\u001b[0m\n\u001b[0;32m      4\u001b[0m \u001b[1;33m\u001b[0m\u001b[0m\n\u001b[1;32m----> 5\u001b[1;33m \u001b[0mnewFile\u001b[0m\u001b[1;33m.\u001b[0m\u001b[0mwrite\u001b[0m\u001b[1;33m(\u001b[0m\u001b[0mb\u001b[0m\u001b[1;33m.\u001b[0m\u001b[0mto_bytes\u001b[0m\u001b[1;33m(\u001b[0m\u001b[1;36m2\u001b[0m\u001b[1;33m,\u001b[0m \u001b[0mbyteorder\u001b[0m\u001b[1;33m=\u001b[0m\u001b[1;34m'big'\u001b[0m\u001b[1;33m)\u001b[0m\u001b[1;33m)\u001b[0m \u001b[1;31m# ,signed=True\u001b[0m\u001b[1;33m\u001b[0m\u001b[1;33m\u001b[0m\u001b[0m\n\u001b[0m\u001b[0;32m      6\u001b[0m \u001b[1;33m\u001b[0m\u001b[0m\n\u001b[0;32m      7\u001b[0m \u001b[0mnewFile\u001b[0m\u001b[1;33m.\u001b[0m\u001b[0mclose\u001b[0m\u001b[1;33m(\u001b[0m\u001b[1;33m)\u001b[0m\u001b[1;33m\u001b[0m\u001b[1;33m\u001b[0m\u001b[0m\n",
      "\u001b[1;31mAttributeError\u001b[0m: 'float' object has no attribute 'to_bytes'"
     ]
    }
   ],
   "source": [
    "b = 15.5\n",
    "\n",
    "newFile = open(\"filename.txt\", \"wb\")\n",
    "\n",
    "newFile.write(b.to_bytes(2, byteorder='big')) # ,signed=True\n",
    "\n",
    "newFile.close()"
   ]
  },
  {
   "cell_type": "code",
   "execution_count": null,
   "metadata": {},
   "outputs": [],
   "source": []
  }
 ],
 "metadata": {
  "kernelspec": {
   "display_name": "Python 3",
   "language": "python",
   "name": "python3"
  },
  "language_info": {
   "codemirror_mode": {
    "name": "ipython",
    "version": 3
   },
   "file_extension": ".py",
   "mimetype": "text/x-python",
   "name": "python",
   "nbconvert_exporter": "python",
   "pygments_lexer": "ipython3",
   "version": "3.7.6"
  }
 },
 "nbformat": 4,
 "nbformat_minor": 4
}
